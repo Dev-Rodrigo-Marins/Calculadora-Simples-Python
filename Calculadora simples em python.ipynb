{
 "cells": [
  {
   "cell_type": "code",
   "execution_count": null,
   "id": "44834856",
   "metadata": {},
   "outputs": [],
   "source": [
    "#----- calculador simples em python"
   ]
  },
  {
   "cell_type": "code",
   "execution_count": 30,
   "id": "169e4b2b",
   "metadata": {},
   "outputs": [
    {
     "name": "stdout",
     "output_type": "stream",
     "text": [
      "Bem vindo a calculadora Python do Rodrigo \n",
      "\n",
      " 1 - Soma \n",
      " 2 - Subtração \n",
      " 3 - Multiplicação \n",
      " 4 - Divisão\n",
      "Digite o numero referente a operação 2\n",
      "\n",
      " Informe o primeiro numero 10\n",
      "\n",
      " Informe o segundo numero 10\n",
      "\n",
      " Operação Subtração selecionada!\n",
      "O resultado 10 - 10 = 0\n"
     ]
    }
   ],
   "source": [
    "a=0 # variavel a ser utilizada pelo primeiro parametro\n",
    "b=0 # variavel a ser utilizada pelo segundo parametra\n",
    "\n",
    "\n",
    "# função soma\n",
    "def soma(a,b):\n",
    "    resultado=a+b\n",
    "    return resultado\n",
    "\n",
    "# função subtrair\n",
    "def subtrair(a,b):\n",
    "    resultado = a-b\n",
    "    return resultado\n",
    "\n",
    "# função multiplicação\n",
    "def multiplicacao(a,b):\n",
    "    resultado = a*b\n",
    "    return resultado\n",
    "\n",
    "# função divisão\n",
    "def divisao(a,b):\n",
    "    resultado =a/b\n",
    "    return resultado    \n",
    "\n",
    "#inicio da calculadora com boas vindas!\n",
    "print('Bem vindo a calculadora Python do Rodrigo \\n\\n 1 - Soma \\n 2 - Subtração \\n 3 - Multiplicação \\n 4 - Divisão')\n",
    "\n",
    "operacao = int(input(\"Digite o numero referente a operação \"))\n",
    "\n",
    "\n",
    "a = int(input(\"\\n Informe o primeiro numero \"))\n",
    "\n",
    "b = int(input(\"\\n Informe o segundo numero \"))\n",
    "\n",
    "\n",
    "if operacao == 1:\n",
    "    print(\"\\n Operação Soma selecionada!\")\n",
    "    resultado = soma(a,b)\n",
    "    print(\"O resultado %i + %i = %i\" %(a,b,resultado))\n",
    "    \n",
    "elif operacao == 2:\n",
    "    print(\"\\n Operação Subtração selecionada!\")\n",
    "    resultado = subtrair(a,b)\n",
    "    print(\"O resultado %i - %i = %i\" %(a,b,resultado))    \n",
    "    \n",
    "elif operacao == 3:\n",
    "    print(\"\\n Operação Multiplicação selecionada!\")\n",
    "    resultado = multiplicacao(a,b)\n",
    "    print(\"O resultado %i * %i = %i\" %(a,b,resultado))    \n",
    "    \n",
    "elif operacao == 4:\n",
    "    print(\"\\n Operação Divisão selecionada!\")\n",
    "    resultado = divisao(a,b)\n",
    "    print(\"O resultado %i / %i = %i\" %(a,b,resultado))\n",
    "\n",
    "else:\n",
    "    print(\"\\n Operação inválida. Por favor, escolha uma operação válida (1 a 4).\")"
   ]
  },
  {
   "cell_type": "code",
   "execution_count": null,
   "id": "57cb580c",
   "metadata": {},
   "outputs": [],
   "source": []
  },
  {
   "cell_type": "code",
   "execution_count": null,
   "id": "bc8119d3",
   "metadata": {},
   "outputs": [],
   "source": []
  },
  {
   "cell_type": "code",
   "execution_count": null,
   "id": "674cdb61",
   "metadata": {},
   "outputs": [],
   "source": []
  },
  {
   "cell_type": "code",
   "execution_count": null,
   "id": "20914a24",
   "metadata": {},
   "outputs": [],
   "source": []
  }
 ],
 "metadata": {
  "kernelspec": {
   "display_name": "Python 3 (ipykernel)",
   "language": "python",
   "name": "python3"
  },
  "language_info": {
   "codemirror_mode": {
    "name": "ipython",
    "version": 3
   },
   "file_extension": ".py",
   "mimetype": "text/x-python",
   "name": "python",
   "nbconvert_exporter": "python",
   "pygments_lexer": "ipython3",
   "version": "3.9.13"
  }
 },
 "nbformat": 4,
 "nbformat_minor": 5
}
